{
  "cells": [
    {
      "cell_type": "markdown",
      "id": "13ad028b-72b7-43ed-aa78-96fd4e518040",
      "metadata": {
        "id": "13ad028b-72b7-43ed-aa78-96fd4e518040"
      },
      "source": [
        "# Assignment: Data Wrangling"
      ]
    },
    {
      "cell_type": "code",
      "source": [
        "! git clone https://github.com/DS3001/wrangling\n",
        "# ! talks directly to OS"
      ],
      "metadata": {
        "colab": {
          "base_uri": "https://localhost:8080/"
        },
        "id": "QxcVKG7JwVbv",
        "outputId": "d42f54fe-2d83-4ec2-d64b-dd709ecbf7d0"
      },
      "id": "QxcVKG7JwVbv",
      "execution_count": 1,
      "outputs": [
        {
          "output_type": "stream",
          "name": "stdout",
          "text": [
            "Cloning into 'wrangling'...\n",
            "remote: Enumerating objects: 75, done.\u001b[K\n",
            "remote: Counting objects: 100% (34/34), done.\u001b[K\n",
            "remote: Compressing objects: 100% (24/24), done.\u001b[K\n",
            "remote: Total 75 (delta 27), reused 10 (delta 10), pack-reused 41\u001b[K\n",
            "Receiving objects: 100% (75/75), 6.25 MiB | 7.11 MiB/s, done.\n",
            "Resolving deltas: 100% (33/33), done.\n"
          ]
        }
      ]
    },
    {
      "cell_type": "markdown",
      "id": "5735a4d4-8be8-433a-a351-70eb8002e632",
      "metadata": {
        "id": "5735a4d4-8be8-433a-a351-70eb8002e632"
      },
      "source": [
        "**Q1.** Open the \"tidy_data.pdf\" document in the repo, which is a paper called Tidy Data by Hadley Wickham.\n",
        "\n",
        "  1. Read the abstract. What is this paper about? *This paper explains tidy data, a systematic way of cleaning data designed for compatibility with virtually any dataset.*\n",
        "  2. Read the introduction. What is the \"tidy data standard\" intended to accomplish? *Its purpose is to \"structure datasets to facilitate analysis.\" Tidy data also intends to work with real datasets and overcome obstacles typical to them, and a framework for teaching proper data use.*\n",
        "  3. Read the intro to section 2. What does this sentence mean: \"Like families, tidy datasets are all alike but every messy dataset is messy in its own way.\" What does this sentence mean: \"For a given dataset, it’s usually easy to figure out what are observations and what are variables, but it is surprisingly difficult to precisely define variables and observations in general.\" *This statement summarizes the disparity between having a conceptual understanding of the dataset and applying that to an actual structure. We might know what we are trying to observe, but the data have to be structured properly to work with it well.*\n",
        "  4. Read Section 2.2. How does Wickham define values, variables, and observations? *Values are numbers or strings that are collected in a dataset. A variable is all values measuring the same attribute across units. Observations are all values measured on the same unit.*\n",
        "  5. How is \"Tidy Data\" defined in section 2.3? *Tidy data stores each variable in a column, each observation in a row, and each observational unit in a table.*\n",
        "  6. Read the intro to Section 3 and Section 3.1. What are the 5 most common problems with messy datasets? Why are the data in Table 4 messy? What is \"melting\" a dataset? *The 5 most common problems are column headers as values, multiple variables are stored in one column, variables stored in both rows and columns, multiple types of observational units stored in the same table, and a single observational unit stored in multiple tables. Table 4 is messy because the income variable has its values as columns. Melting a dataset is stacking the dataset, turning columns into rows and tidying it.*\n",
        "  7. Why, specifically, is table 11 messy but table 12 tidy and \"molten\"? *Table 11 is messy because the date variable is not contained in 1 column, rather it is spread across 31 columns. Table 12 is tidy and molten because these values for date are condensed into 1 column to better convey the data and organize it.*\n",
        "  8. Read Section 6. What is the \"chicken-and-egg\" problem with focusing on tidy data? What does Wickham hope happens in the future with further work on the subject of data wrangling? *The chicken-and-egg problem is that tidy data could only be linked to the tools that are used to tidy data, and neither the concept nor implementation are improved. Wickham hopes that tidying data is more of a framework and the tools will continue improving.*"
      ]
    },
    {
      "cell_type": "markdown",
      "id": "da879ea7-8aac-48a3-b6c2-daea56d2e072",
      "metadata": {
        "id": "da879ea7-8aac-48a3-b6c2-daea56d2e072"
      },
      "source": [
        "**Q2.** This question provides some practice cleaning variables which have common problems.\n",
        "1. Numeric variable: For `./data/airbnb_hw.csv`, clean the `Price` variable as well as you can, and explain the choices you make. How many missing values do you end up with? (Hint: What happens to the formatting when a price goes over 999 dollars, say from 675 to 1,112?)\n",
        "2. Categorical variable: For the `./data/sharks.csv` data covered in the lecture, clean the \"Type\" variable as well as you can, and explain the choices you make.\n",
        "3. Dummy variable: For the pretrial data covered in the lecture, clean the `WhetherDefendantWasReleasedPretrial` variable as well as you can, and, in particular, replace missing values with `np.nan`.\n",
        "4. Missing values, not at random: For the pretrial data covered in the lecture, clean the `ImposedSentenceAllChargeInContactEvent` variable as well as you can, and explain the choices you make. (Hint: Look at the `SentenceTypeAllChargesAtConvictionInContactEvent` variable.)"
      ]
    },
    {
      "cell_type": "code",
      "source": [
        "#packages\n",
        "import numpy as np\n",
        "import pandas as pd"
      ],
      "metadata": {
        "id": "5oA9t7FdUL6o"
      },
      "id": "5oA9t7FdUL6o",
      "execution_count": 2,
      "outputs": []
    },
    {
      "cell_type": "code",
      "source": [
        "#load dataset\n",
        "df = pd.read_csv('/content/wrangling/assignment/data/airbnb_hw.csv',low_memory=False)"
      ],
      "metadata": {
        "id": "GWlJGm6yUmJF"
      },
      "id": "GWlJGm6yUmJF",
      "execution_count": 3,
      "outputs": []
    },
    {
      "cell_type": "code",
      "source": [
        "#define variable\n",
        "var = 'Price'"
      ],
      "metadata": {
        "id": "ZsN6RCjUV1Jn"
      },
      "id": "ZsN6RCjUV1Jn",
      "execution_count": 4,
      "outputs": []
    },
    {
      "cell_type": "code",
      "source": [
        "#examining variable\n",
        "df[var].unique()"
      ],
      "metadata": {
        "id": "kYyX6hIpYqnM",
        "outputId": "6dc097b8-ad6d-45c4-f44b-816ee29cac88",
        "colab": {
          "base_uri": "https://localhost:8080/"
        }
      },
      "id": "kYyX6hIpYqnM",
      "execution_count": 5,
      "outputs": [
        {
          "output_type": "execute_result",
          "data": {
            "text/plain": [
              "array(['145', '37', '28', '199', '549', '149', '250', '90', '270', '290',\n",
              "       '170', '59', '49', '68', '285', '75', '100', '150', '700', '125',\n",
              "       '175', '40', '89', '95', '99', '499', '120', '79', '110', '180',\n",
              "       '143', '230', '350', '135', '85', '60', '70', '55', '44', '200',\n",
              "       '165', '115', '74', '84', '129', '50', '185', '80', '190', '140',\n",
              "       '45', '65', '225', '600', '109', '1,990', '73', '240', '72', '105',\n",
              "       '155', '160', '42', '132', '117', '295', '280', '159', '107', '69',\n",
              "       '239', '220', '399', '130', '375', '585', '275', '139', '260',\n",
              "       '35', '133', '300', '289', '179', '98', '195', '29', '27', '39',\n",
              "       '249', '192', '142', '169', '1,000', '131', '138', '113', '122',\n",
              "       '329', '101', '475', '238', '272', '308', '126', '235', '315',\n",
              "       '248', '128', '56', '207', '450', '215', '210', '385', '445',\n",
              "       '136', '247', '118', '77', '76', '92', '198', '205', '299', '222',\n",
              "       '245', '104', '153', '349', '114', '320', '292', '226', '420',\n",
              "       '500', '325', '307', '78', '265', '108', '123', '189', '32', '58',\n",
              "       '86', '219', '800', '335', '63', '229', '425', '67', '87', '1,200',\n",
              "       '158', '650', '234', '310', '695', '400', '166', '119', '62',\n",
              "       '168', '340', '479', '43', '395', '144', '52', '47', '529', '187',\n",
              "       '209', '233', '82', '269', '163', '172', '305', '156', '550',\n",
              "       '435', '137', '124', '48', '279', '330', '5,000', '134', '378',\n",
              "       '97', '277', '64', '193', '147', '186', '264', '30', '3,000',\n",
              "       '112', '94', '379', '57', '415', '236', '410', '214', '88', '66',\n",
              "       '71', '171', '157', '545', '1,500', '83', '96', '1,800', '81',\n",
              "       '188', '380', '255', '505', '54', '33', '174', '93', '740', '640',\n",
              "       '1,300', '440', '599', '357', '1,239', '495', '127', '5,999',\n",
              "       '178', '348', '152', '242', '183', '253', '750', '259', '365',\n",
              "       '273', '197', '397', '103', '389', '355', '559', '38', '203',\n",
              "       '999', '141', '162', '333', '698', '46', '360', '895', '10', '41',\n",
              "       '206', '281', '449', '388', '212', '102', '201', '2,750', '4,750',\n",
              "       '432', '675', '167', '390', '298', '339', '194', '302', '211',\n",
              "       '595', '191', '53', '361', '480', '8,000', '4,500', '459', '997',\n",
              "       '345', '216', '218', '111', '735', '276', '91', '490', '850',\n",
              "       '398', '36', '775', '267', '625', '336', '2,500', '176', '725',\n",
              "       '3,750', '469', '106', '460', '287', '575', '227', '263', '25',\n",
              "       '228', '208', '177', '880', '148', '116', '685', '470', '217',\n",
              "       '164', '61', '645', '699', '405', '252', '319', '268', '419',\n",
              "       '343', '525', '311', '840', '154', '294', '950', '409', '184',\n",
              "       '257', '204', '241', '2,000', '412', '121', '288', '196', '900',\n",
              "       '647', '524', '1,750', '309', '510', '1,495', '1,700', '799',\n",
              "       '383', '372', '492', '327', '1,999', '656', '224', '173', '875',\n",
              "       '1,170', '795', '690', '146', '465', '1,100', '151', '274', '429',\n",
              "       '825', '282', '256', '1,111', '620', '271', '161', '51', '855',\n",
              "       '579', '1,174', '430', '20', '899', '649', '485', '181', '455',\n",
              "       '4,000', '243', '342', '590', '560', '374', '437', '232', '359',\n",
              "       '985', '31', '244', '254', '723', '237', '428', '370', '34',\n",
              "       '1,400', '580', '2,520', '221', '749', '1,600', '2,695', '306',\n",
              "       '202', '680', '570', '520', '223', '2,295', '213', '1,065', '346',\n",
              "       '24', '286', '296', '266', '26', '995', '1,368', '393', '182',\n",
              "       '635', '258', '780', '589', '347', '1,250', '1,350', '446',\n",
              "       '3,200', '1,050', '1,650', '1,550', '975', '323', '6,500', '2,499',\n",
              "       '1,850', '2,250', '715', '461', '540', '356', '439', '384', '569',\n",
              "       '1,900', '22', '785', '626', '830', '318', '444', '321', '401',\n",
              "       '1,499', '888', '369', '770', '386', '366', '344', '630', '313',\n",
              "       '597', '262', '509', '10,000', '278', '312', '789', '1,195', '422',\n",
              "       '21', '765', '3,500', '945', '326', '3,100', '2,486', '3,390',\n",
              "       '1,356', '2,599', '472', '454', '328', '396', '291'], dtype=object)"
            ]
          },
          "metadata": {},
          "execution_count": 5
        }
      ]
    },
    {
      "cell_type": "code",
      "source": [
        "df[var].value_counts()"
      ],
      "metadata": {
        "id": "PtWPnOKKYsp2",
        "outputId": "d28478e0-7aaa-4703-f8e3-c260cd9d6df6",
        "colab": {
          "base_uri": "https://localhost:8080/"
        }
      },
      "id": "PtWPnOKKYsp2",
      "execution_count": 6,
      "outputs": [
        {
          "output_type": "execute_result",
          "data": {
            "text/plain": [
              "150      1481\n",
              "100      1207\n",
              "200      1059\n",
              "125       889\n",
              "75        873\n",
              "         ... \n",
              "840         1\n",
              "306         1\n",
              "2,695       1\n",
              "2,520       1\n",
              "291         1\n",
              "Name: Price, Length: 511, dtype: int64"
            ]
          },
          "metadata": {},
          "execution_count": 6
        }
      ]
    },
    {
      "cell_type": "code",
      "source": [
        "df[var].hist()"
      ],
      "metadata": {
        "id": "adnEjvy9YuKx",
        "outputId": "5c31a247-67c8-40b1-bf1e-c4662d65926c",
        "colab": {
          "base_uri": "https://localhost:8080/",
          "height": 447
        }
      },
      "id": "adnEjvy9YuKx",
      "execution_count": 7,
      "outputs": [
        {
          "output_type": "execute_result",
          "data": {
            "text/plain": [
              "<Axes: >"
            ]
          },
          "metadata": {},
          "execution_count": 7
        },
        {
          "output_type": "display_data",
          "data": {
            "text/plain": [
              "<Figure size 640x480 with 1 Axes>"
            ],
            "image/png": "[encoded data removed]"
          },
          "metadata": {}
        }
      ]
    },
    {
      "cell_type": "code",
      "source": [
        "#remove the comma and replace with nothing\n",
        "df[var].str.replace(',', '')"
      ],
      "metadata": {
        "id": "Szi94GuzY7jh",
        "outputId": "90705cae-daa5-4ec8-c172-b87b58272edf",
        "colab": {
          "base_uri": "https://localhost:8080/"
        }
      },
      "id": "Szi94GuzY7jh",
      "execution_count": 8,
      "outputs": [
        {
          "output_type": "execute_result",
          "data": {
            "text/plain": [
              "0        145\n",
              "1         37\n",
              "2         28\n",
              "3        199\n",
              "4        549\n",
              "        ... \n",
              "30473    300\n",
              "30474    125\n",
              "30475     80\n",
              "30476     35\n",
              "30477     80\n",
              "Name: Price, Length: 30478, dtype: object"
            ]
          },
          "metadata": {},
          "execution_count": 8
        }
      ]
    },
    {
      "cell_type": "code",
      "source": [
        "#coerce the variable to numeric\n",
        "df[var] = pd.to_numeric(df[var], errors='coerce')"
      ],
      "metadata": {
        "id": "F-YDJ3DWZb2W"
      },
      "id": "F-YDJ3DWZb2W",
      "execution_count": 9,
      "outputs": []
    },
    {
      "cell_type": "code",
      "source": [
        "#examine variable after coercion\n",
        "df[var].unique()\n",
        "#no values above 1000, this is an issue"
      ],
      "metadata": {
        "id": "yCjvsFheZqOs",
        "outputId": "e627afcf-5065-49c9-e91a-5b2d675ab74a",
        "colab": {
          "base_uri": "https://localhost:8080/"
        }
      },
      "id": "yCjvsFheZqOs",
      "execution_count": 10,
      "outputs": [
        {
          "output_type": "execute_result",
          "data": {
            "text/plain": [
              "array([145.,  37.,  28., 199., 549., 149., 250.,  90., 270., 290., 170.,\n",
              "        59.,  49.,  68., 285.,  75., 100., 150., 700., 125., 175.,  40.,\n",
              "        89.,  95.,  99., 499., 120.,  79., 110., 180., 143., 230., 350.,\n",
              "       135.,  85.,  60.,  70.,  55.,  44., 200., 165., 115.,  74.,  84.,\n",
              "       129.,  50., 185.,  80., 190., 140.,  45.,  65., 225., 600., 109.,\n",
              "        nan,  73., 240.,  72., 105., 155., 160.,  42., 132., 117., 295.,\n",
              "       280., 159., 107.,  69., 239., 220., 399., 130., 375., 585., 275.,\n",
              "       139., 260.,  35., 133., 300., 289., 179.,  98., 195.,  29.,  27.,\n",
              "        39., 249., 192., 142., 169., 131., 138., 113., 122., 329., 101.,\n",
              "       475., 238., 272., 308., 126., 235., 315., 248., 128.,  56., 207.,\n",
              "       450., 215., 210., 385., 445., 136., 247., 118.,  77.,  76.,  92.,\n",
              "       198., 205., 299., 222., 245., 104., 153., 349., 114., 320., 292.,\n",
              "       226., 420., 500., 325., 307.,  78., 265., 108., 123., 189.,  32.,\n",
              "        58.,  86., 219., 800., 335.,  63., 229., 425.,  67.,  87., 158.,\n",
              "       650., 234., 310., 695., 400., 166., 119.,  62., 168., 340., 479.,\n",
              "        43., 395., 144.,  52.,  47., 529., 187., 209., 233.,  82., 269.,\n",
              "       163., 172., 305., 156., 550., 435., 137., 124.,  48., 279., 330.,\n",
              "       134., 378.,  97., 277.,  64., 193., 147., 186., 264.,  30., 112.,\n",
              "        94., 379.,  57., 415., 236., 410., 214.,  88.,  66.,  71., 171.,\n",
              "       157., 545.,  83.,  96.,  81., 188., 380., 255., 505.,  54.,  33.,\n",
              "       174.,  93., 740., 640., 440., 599., 357., 495., 127., 178., 348.,\n",
              "       152., 242., 183., 253., 750., 259., 365., 273., 197., 397., 103.,\n",
              "       389., 355., 559.,  38., 203., 999., 141., 162., 333., 698.,  46.,\n",
              "       360., 895.,  10.,  41., 206., 281., 449., 388., 212., 102., 201.,\n",
              "       432., 675., 167., 390., 298., 339., 194., 302., 211., 595., 191.,\n",
              "        53., 361., 480., 459., 997., 345., 216., 218., 111., 735., 276.,\n",
              "        91., 490., 850., 398.,  36., 775., 267., 625., 336., 176., 725.,\n",
              "       469., 106., 460., 287., 575., 227., 263.,  25., 228., 208., 177.,\n",
              "       880., 148., 116., 685., 470., 217., 164.,  61., 645., 699., 405.,\n",
              "       252., 319., 268., 419., 343., 525., 311., 840., 154., 294., 950.,\n",
              "       409., 184., 257., 204., 241., 412., 121., 288., 196., 900., 647.,\n",
              "       524., 309., 510., 799., 383., 372., 492., 327., 656., 224., 173.,\n",
              "       875., 795., 690., 146., 465., 151., 274., 429., 825., 282., 256.,\n",
              "       620., 271., 161.,  51., 855., 579., 430.,  20., 899., 649., 485.,\n",
              "       181., 455., 243., 342., 590., 560., 374., 437., 232., 359., 985.,\n",
              "        31., 244., 254., 723., 237., 428., 370.,  34., 580., 221., 749.,\n",
              "       306., 202., 680., 570., 520., 223., 213., 346.,  24., 286., 296.,\n",
              "       266.,  26., 995., 393., 182., 635., 258., 780., 589., 347., 446.,\n",
              "       975., 323., 715., 461., 540., 356., 439., 384., 569.,  22., 785.,\n",
              "       626., 830., 318., 444., 321., 401., 888., 369., 770., 386., 366.,\n",
              "       344., 630., 313., 597., 262., 509., 278., 312., 789., 422.,  21.,\n",
              "       765., 945., 326., 472., 454., 328., 396., 291.])"
            ]
          },
          "metadata": {},
          "execution_count": 10
        }
      ]
    },
    {
      "cell_type": "code",
      "source": [
        "df[var].value_counts()\n",
        "#lost 53 different values"
      ],
      "metadata": {
        "id": "p7k-3Xn7Z2y9",
        "outputId": "0c1002b8-49f1-4dce-9e0f-4faf69a89b06",
        "colab": {
          "base_uri": "https://localhost:8080/"
        }
      },
      "id": "p7k-3Xn7Z2y9",
      "execution_count": 11,
      "outputs": [
        {
          "output_type": "execute_result",
          "data": {
            "text/plain": [
              "150.0    1481\n",
              "100.0    1207\n",
              "200.0    1059\n",
              "125.0     889\n",
              "75.0      873\n",
              "         ... \n",
              "327.0       1\n",
              "492.0       1\n",
              "383.0       1\n",
              "524.0       1\n",
              "291.0       1\n",
              "Name: Price, Length: 458, dtype: int64"
            ]
          },
          "metadata": {},
          "execution_count": 11
        }
      ]
    },
    {
      "cell_type": "code",
      "source": [
        "df[var].hist()\n",
        "#this histogram is better than before cleaning, but it is missing values above 1000 due to str replace"
      ],
      "metadata": {
        "id": "Jl9Ci4BmZ9Dw",
        "outputId": "55aabd1d-b2ee-4463-a3e8-f516863377ee",
        "colab": {
          "base_uri": "https://localhost:8080/",
          "height": 447
        }
      },
      "id": "Jl9Ci4BmZ9Dw",
      "execution_count": 12,
      "outputs": [
        {
          "output_type": "execute_result",
          "data": {
            "text/plain": [
              "<Axes: >"
            ]
          },
          "metadata": {},
          "execution_count": 12
        },
        {
          "output_type": "display_data",
          "data": {
            "text/plain": [
              "<Figure size 640x480 with 1 Axes>"
            ],
            "image/png": "[encoded data removed]"
          },
          "metadata": {}
        }
      ]
    },
    {
      "cell_type": "code",
      "source": [
        "#A different approach is needed to effectively clean the variable.\n",
        "#Imputation would likely not solve this, since the main problem is the str replace and how it treated values above 1000."
      ],
      "metadata": {
        "id": "EmDKaKShaQy9"
      },
      "id": "EmDKaKShaQy9",
      "execution_count": null,
      "outputs": []
    },
    {
      "cell_type": "markdown",
      "id": "649494cd-cfd6-4f80-992a-9994fc19e1d5",
      "metadata": {
        "id": "649494cd-cfd6-4f80-992a-9994fc19e1d5"
      },
      "source": [
        "**Q3.** Many important datasets contain a race variable, typically limited to a handful of values often including Black, White, Asian, Latino, and Indigenous. This question looks at data gathering efforts on this variable by the U.S. Federal government.\n",
        "\n",
        "1. How did the most recent US Census gather data on race?\n",
        "2. Why do we gather these data? What role do these kinds of data play in politics and society? Why does data quality matter?\n",
        "3. Please provide a constructive criticism of how the Census was conducted: What was done well? What do you think was missing? How should future large scale surveys be adjusted to best reflect the diversity of the population? Could some of the Census' good practices be adopted more widely to gather richer and more useful data?\n",
        "4. How did the Census gather data on sex and gender? Please provide a similar constructive criticism of their practices.\n",
        "5. When it comes to cleaning data, what concerns do you have about protected characteristics like sex, gender, sexual identity, or race? What challenges can you imagine arising when there are missing values? What good or bad practices might people adopt, and why?\n",
        "6. Suppose someone invented an algorithm to impute values for protected characteristics like race, gender, sex, or sexuality. What kinds of concerns would you have?"
      ]
    }
  ],
  "metadata": {
    "colab": {
      "provenance": []
    },
    "kernelspec": {
      "display_name": "Python 3 (ipykernel)",
      "language": "python",
      "name": "python3"
    },
    "language_info": {
      "codemirror_mode": {
        "name": "ipython",
        "version": 3
      },
      "file_extension": ".py",
      "mimetype": "text/x-python",
      "name": "python",
      "nbconvert_exporter": "python",
      "pygments_lexer": "ipython3",
      "version": "3.10.4"
    }
  },
  "nbformat": 4,
  "nbformat_minor": 5
}